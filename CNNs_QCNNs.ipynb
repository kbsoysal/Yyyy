<!DOCTYPE html>

<html  dir="ltr" lang="en" xml:lang="en">
<head>
    <title>Site policy agreement</title>
    <link rel="shortcut icon" href="https://moodle.lmu.de/theme/image.php/lmu/theme/1674616480/favicon" />
    <meta http-equiv="Content-Type" content="text/html; charset=utf-8" />
<meta name="keywords" content="moodle, Site policy agreement" />
<link rel="stylesheet" type="text/css" href="https://moodle.lmu.de/theme/yui_combo.php?rollup/3.17.2/yui-moodlesimple-min.css" /><script id="firstthemesheet" type="text/css">/** Required in order to fix style inclusion problems in IE with YUI **/</script><link rel="stylesheet" type="text/css" href="https://moodle.lmu.de/theme/styles.php/lmu/1674616480_1674616599/all" />
<script>
//<![CDATA[
var M = {}; M.yui = {};
M.pageloadstarttime = new Date();
M.cfg = {"wwwroot":"https:\/\/moodle.lmu.de","sesskey":"0jzAlub5uV","sessiontimeout":"14400","sessiontimeoutwarning":1200,"themerev":"1674616480","slasharguments":1,"theme":"lmu","iconsystemmodule":"core\/icon_system_fontawesome","jsrev":"1674616481","admin":"admin","svgicons":true,"usertimezone":"Europe\/Berlin","contextid":1,"langrev":1719281419,"templaterev":"1674616481"};var yui1ConfigFn = function(me) {if(/-skin|reset|fonts|grids|base/.test(me.name)){me.type='css';me.path=me.path.replace(/\.js/,'.css');me.path=me.path.replace(/\/yui2-skin/,'/assets/skins/sam/yui2-skin')}};
var yui2ConfigFn = function(me) {var parts=me.name.replace(/^moodle-/,'').split('-'),component=parts.shift(),module=parts[0],min='-min';if(/-(skin|core)$/.test(me.name)){parts.pop();me.type='css';min=''}
if(module){var filename=parts.join('-');me.path=component+'/'+module+'/'+filename+min+'.'+me.type}else{me.path=component+'/'+component+'.'+me.type}};
YUI_config = {"debug":false,"base":"https:\/\/moodle.lmu.de\/lib\/yuilib\/3.17.2\/","comboBase":"https:\/\/moodle.lmu.de\/theme\/yui_combo.php?","combine":true,"filter":null,"insertBefore":"firstthemesheet","groups":{"yui2":{"base":"https:\/\/moodle.lmu.de\/lib\/yuilib\/2in3\/2.9.0\/build\/","comboBase":"https:\/\/moodle.lmu.de\/theme\/yui_combo.php?","combine":true,"ext":false,"root":"2in3\/2.9.0\/build\/","patterns":{"yui2-":{"group":"yui2","configFn":yui1ConfigFn}}},"moodle":{"name":"moodle","base":"https:\/\/moodle.lmu.de\/theme\/yui_combo.php?m\/1674616481\/","combine":true,"comboBase":"https:\/\/moodle.lmu.de\/theme\/yui_combo.php?","ext":false,"root":"m\/1674616481\/","patterns":{"moodle-":{"group":"moodle","configFn":yui2ConfigFn}},"filter":null,"modules":{"moodle-core-actionmenu":{"requires":["base","event","node-event-simulate"]},"moodle-core-blocks":{"requires":["base","node","io","dom","dd","dd-scroll","moodle-core-dragdrop","moodle-core-notification"]},"moodle-core-chooserdialogue":{"requires":["base","panel","moodle-core-notification"]},"moodle-core-dragdrop":{"requires":["base","node","io","dom","dd","event-key","event-focus","moodle-core-notification"]},"moodle-core-event":{"requires":["event-custom"]},"moodle-core-formchangechecker":{"requires":["base","event-focus","moodle-core-event"]},"moodle-core-handlebars":{"condition":{"trigger":"handlebars","when":"after"}},"moodle-core-languninstallconfirm":{"requires":["base","node","moodle-core-notification-confirm","moodle-core-notification-alert"]},"moodle-core-lockscroll":{"requires":["plugin","base-build"]},"moodle-core-maintenancemodetimer":{"requires":["base","node"]},"moodle-core-notification":{"requires":["moodle-core-notification-dialogue","moodle-core-notification-alert","moodle-core-notification-confirm","moodle-core-notification-exception","moodle-core-notification-ajaxexception"]},"moodle-core-notification-dialogue":{"requires":["base","node","panel","escape","event-key","dd-plugin","moodle-core-widget-focusafterclose","moodle-core-lockscroll"]},"moodle-core-notification-alert":{"requires":["moodle-core-notification-dialogue"]},"moodle-core-notification-confirm":{"requires":["moodle-core-notification-dialogue"]},"moodle-core-notification-exception":{"requires":["moodle-core-notification-dialogue"]},"moodle-core-notification-ajaxexception":{"requires":["moodle-core-notification-dialogue"]},"moodle-core-popuphelp":{"requires":["moodle-core-tooltip"]},"moodle-core-tooltip":{"requires":["base","node","io-base","moodle-core-notification-dialogue","json-parse","widget-position","widget-position-align","event-outside","cache-base"]},"moodle-core_availability-form":{"requires":["base","node","event","event-delegate","panel","moodle-core-notification-dialogue","json"]},"moodle-backup-backupselectall":{"requires":["node","event","node-event-simulate","anim"]},"moodle-backup-confirmcancel":{"requires":["node","node-event-simulate","moodle-core-notification-confirm"]},"moodle-course-categoryexpander":{"requires":["node","event-key"]},"moodle-course-dragdrop":{"requires":["base","node","io","dom","dd","dd-scroll","moodle-core-dragdrop","moodle-core-notification","moodle-course-coursebase","moodle-course-util"]},"moodle-course-formatchooser":{"requires":["base","node","node-event-simulate"]},"moodle-course-management":{"requires":["base","node","io-base","moodle-core-notification-exception","json-parse","dd-constrain","dd-proxy","dd-drop","dd-delegate","node-event-delegate"]},"moodle-course-util":{"requires":["node"],"use":["moodle-course-util-base"],"submodules":{"moodle-course-util-base":{},"moodle-course-util-section":{"requires":["node","moodle-course-util-base"]},"moodle-course-util-cm":{"requires":["node","moodle-course-util-base"]}}},"moodle-form-dateselector":{"requires":["base","node","overlay","calendar"]},"moodle-form-passwordunmask":{"requires":[]},"moodle-form-shortforms":{"requires":["node","base","selector-css3","moodle-core-event"]},"moodle-question-chooser":{"requires":["moodle-core-chooserdialogue"]},"moodle-question-preview":{"requires":["base","dom","event-delegate","event-key","core_question_engine"]},"moodle-question-searchform":{"requires":["base","node"]},"moodle-availability_completion-form":{"requires":["base","node","event","moodle-core_availability-form"]},"moodle-availability_date-form":{"requires":["base","node","event","io","moodle-core_availability-form"]},"moodle-availability_grade-form":{"requires":["base","node","event","moodle-core_availability-form"]},"moodle-availability_group-form":{"requires":["base","node","event","moodle-core_availability-form"]},"moodle-availability_grouping-form":{"requires":["base","node","event","moodle-core_availability-form"]},"moodle-availability_profile-form":{"requires":["base","node","event","moodle-core_availability-form"]},"moodle-mod_assign-history":{"requires":["node","transition"]},"moodle-mod_customcert-rearrange":{"requires":["dd-delegate","dd-drag"]},"moodle-mod_quiz-autosave":{"requires":["base","node","event","event-valuechange","node-event-delegate","io-form"]},"moodle-mod_quiz-dragdrop":{"requires":["base","node","io","dom","dd","dd-scroll","moodle-core-dragdrop","moodle-core-notification","moodle-mod_quiz-quizbase","moodle-mod_quiz-util-base","moodle-mod_quiz-util-page","moodle-mod_quiz-util-slot","moodle-course-util"]},"moodle-mod_quiz-modform":{"requires":["base","node","event"]},"moodle-mod_quiz-questionchooser":{"requires":["moodle-core-chooserdialogue","moodle-mod_quiz-util","querystring-parse"]},"moodle-mod_quiz-quizbase":{"requires":["base","node"]},"moodle-mod_quiz-toolboxes":{"requires":["base","node","event","event-key","io","moodle-mod_quiz-quizbase","moodle-mod_quiz-util-slot","moodle-core-notification-ajaxexception"]},"moodle-mod_quiz-util":{"requires":["node","moodle-core-actionmenu"],"use":["moodle-mod_quiz-util-base"],"submodules":{"moodle-mod_quiz-util-base":{},"moodle-mod_quiz-util-slot":{"requires":["node","moodle-mod_quiz-util-base"]},"moodle-mod_quiz-util-page":{"requires":["node","moodle-mod_quiz-util-base"]}}},"moodle-message_airnotifier-toolboxes":{"requires":["base","node","io"]},"moodle-filter_glossary-autolinker":{"requires":["base","node","io-base","json-parse","event-delegate","overlay","moodle-core-event","moodle-core-notification-alert","moodle-core-notification-exception","moodle-core-notification-ajaxexception"]},"moodle-filter_mathjaxloader-loader":{"requires":["moodle-core-event"]},"moodle-editor_atto-editor":{"requires":["node","transition","io","overlay","escape","event","event-simulate","event-custom","node-event-html5","node-event-simulate","yui-throttle","moodle-core-notification-dialogue","moodle-core-notification-confirm","moodle-editor_atto-rangy","handlebars","timers","querystring-stringify"]},"moodle-editor_atto-plugin":{"requires":["node","base","escape","event","event-outside","handlebars","event-custom","timers","moodle-editor_atto-menu"]},"moodle-editor_atto-menu":{"requires":["moodle-core-notification-dialogue","node","event","event-custom"]},"moodle-editor_atto-rangy":{"requires":[]},"moodle-report_eventlist-eventfilter":{"requires":["base","event","node","node-event-delegate","datatable","autocomplete","autocomplete-filters"]},"moodle-report_loglive-fetchlogs":{"requires":["base","event","node","io","node-event-delegate"]},"moodle-gradereport_grader-gradereporttable":{"requires":["base","node","event","handlebars","overlay","event-hover"]},"moodle-gradereport_history-userselector":{"requires":["escape","event-delegate","event-key","handlebars","io-base","json-parse","moodle-core-notification-dialogue"]},"moodle-tool_capability-search":{"requires":["base","node"]},"moodle-tool_lp-dragdrop-reorder":{"requires":["moodle-core-dragdrop"]},"moodle-tool_monitor-dropdown":{"requires":["base","event","node"]},"moodle-assignfeedback_editpdf-editor":{"requires":["base","event","node","io","graphics","json","event-move","event-resize","transition","querystring-stringify-simple","moodle-core-notification-dialog","moodle-core-notification-alert","moodle-core-notification-warning","moodle-core-notification-exception","moodle-core-notification-ajaxexception"]},"moodle-atto_accessibilitychecker-button":{"requires":["color-base","moodle-editor_atto-plugin"]},"moodle-atto_accessibilityhelper-button":{"requires":["moodle-editor_atto-plugin"]},"moodle-atto_align-button":{"requires":["moodle-editor_atto-plugin"]},"moodle-atto_bold-button":{"requires":["moodle-editor_atto-plugin"]},"moodle-atto_charmap-button":{"requires":["moodle-editor_atto-plugin"]},"moodle-atto_clear-button":{"requires":["moodle-editor_atto-plugin"]},"moodle-atto_collapse-button":{"requires":["moodle-editor_atto-plugin"]},"moodle-atto_emojipicker-button":{"requires":["moodle-editor_atto-plugin"]},"moodle-atto_emoticon-button":{"requires":["moodle-editor_atto-plugin"]},"moodle-atto_equation-button":{"requires":["moodle-editor_atto-plugin","moodle-core-event","io","event-valuechange","tabview","array-extras"]},"moodle-atto_fullscreen-button":{"requires":["event-resize","moodle-editor_atto-plugin"]},"moodle-atto_generico-button":{"requires":["moodle-editor_atto-plugin"]},"moodle-atto_h5p-button":{"requires":["moodle-editor_atto-plugin"]},"moodle-atto_html-beautify":{},"moodle-atto_html-button":{"requires":["promise","moodle-editor_atto-plugin","moodle-atto_html-beautify","moodle-atto_html-codemirror","event-valuechange"]},"moodle-atto_html-codemirror":{"requires":["moodle-atto_html-codemirror-skin"]},"moodle-atto_image-button":{"requires":["moodle-editor_atto-plugin"]},"moodle-atto_indent-button":{"requires":["moodle-editor_atto-plugin"]},"moodle-atto_italic-button":{"requires":["moodle-editor_atto-plugin"]},"moodle-atto_link-button":{"requires":["moodle-editor_atto-plugin"]},"moodle-atto_managefiles-button":{"requires":["moodle-editor_atto-plugin"]},"moodle-atto_managefiles-usedfiles":{"requires":["node","escape"]},"moodle-atto_media-button":{"requires":["moodle-editor_atto-plugin","moodle-form-shortforms"]},"moodle-atto_noautolink-button":{"requires":["moodle-editor_atto-plugin"]},"moodle-atto_orderedlist-button":{"requires":["moodle-editor_atto-plugin"]},"moodle-atto_recordrtc-button":{"requires":["moodle-editor_atto-plugin","moodle-atto_recordrtc-recording"]},"moodle-atto_recordrtc-recording":{"requires":["moodle-atto_recordrtc-button"]},"moodle-atto_rtl-button":{"requires":["moodle-editor_atto-plugin"]},"moodle-atto_strike-button":{"requires":["moodle-editor_atto-plugin"]},"moodle-atto_subscript-button":{"requires":["moodle-editor_atto-plugin"]},"moodle-atto_superscript-button":{"requires":["moodle-editor_atto-plugin"]},"moodle-atto_table-button":{"requires":["moodle-editor_atto-plugin","moodle-editor_atto-menu","event","event-valuechange"]},"moodle-atto_title-button":{"requires":["moodle-editor_atto-plugin"]},"moodle-atto_underline-button":{"requires":["moodle-editor_atto-plugin"]},"moodle-atto_undo-button":{"requires":["moodle-editor_atto-plugin"]},"moodle-atto_unorderedlist-button":{"requires":["moodle-editor_atto-plugin"]}}},"gallery":{"name":"gallery","base":"https:\/\/moodle.lmu.de\/lib\/yuilib\/gallery\/","combine":true,"comboBase":"https:\/\/moodle.lmu.de\/theme\/yui_combo.php?","ext":false,"root":"gallery\/1674616481\/","patterns":{"gallery-":{"group":"gallery"}}}},"modules":{"core_filepicker":{"name":"core_filepicker","fullpath":"https:\/\/moodle.lmu.de\/lib\/javascript.php\/1674616481\/repository\/filepicker.js","requires":["base","node","node-event-simulate","json","async-queue","io-base","io-upload-iframe","io-form","yui2-treeview","panel","cookie","datatable","datatable-sort","resize-plugin","dd-plugin","escape","moodle-core_filepicker","moodle-core-notification-dialogue"]},"core_comment":{"name":"core_comment","fullpath":"https:\/\/moodle.lmu.de\/lib\/javascript.php\/1674616481\/comment\/comment.js","requires":["base","io-base","node","json","yui2-animation","overlay","escape"]},"mathjax":{"name":"mathjax","fullpath":"https:\/\/elearning.lmu.de\/mathjax@2.7.9\/MathJax.js?delayStartupUntil=configured"}}};
M.yui.loader = {modules: {}};

//]]>
</script>

    <meta name="viewport" content="width=device-width, initial-scale=1.0">
</head>
<body  id="page-user-policy" class="format-site  path-user chrome dir-ltr lang-en yui-skin-sam yui3-skin-sam moodle-lmu-de pagelayout-base course-1 context-1 drawer-open-left">
<div class="toast-wrapper mx-auto py-0 fixed-top" role="status" aria-live="polite"></div>

<div id="page-wrapper" class="d-print-block">

    <div>
    <a class="sr-only sr-only-focusable" href="#maincontent">Skip to main content</a>
</div><script src="https://moodle.lmu.de/lib/javascript.php/1674616481/lib/babel-polyfill/polyfill.min.js"></script>
<script src="https://moodle.lmu.de/lib/javascript.php/1674616481/lib/polyfills/polyfill.js"></script>
<script src="https://moodle.lmu.de/theme/yui_combo.php?rollup/3.17.2/yui-moodlesimple-min.js"></script><script src="https://moodle.lmu.de/lib/javascript.php/1674616481/lib/javascript-static.js"></script>
<script>
//<![CDATA[
document.body.className += ' jsenabled';
//]]>
</script>


<!-- <div style="background-color: #f98012; color: #fff; margin: 45px 0 -45px; padding: 8px 16px; text-align: center;">
<strong>Bitte beachten Sie: </strong>Wartungsarbeiten (Upgrade auf Moodle-Version 3.6) am Mittwoch, den 27.03.2019 zwischen 11:00 Uhr und ca. 14:00 Uhr MEZ. Die Lernplattform steht in diesem Zeitraum nicht zur Verfügung.
</div> -->

    <nav class="fixed-top navbar navbar-dark bg-dark text-white navbar-expand moodle-has-zindex" aria-label="Site navigation">
    
            <div data-region="drawer-toggle" class="d-inline-block mr-3">
                <button aria-expanded="true" aria-controls="nav-drawer" type="button" class="btn nav-link float-sm-left mr-1 btn-light lmu-drawerbutton" data-action="toggle-drawer" data-side="left" data-preference="drawer-open-nav"><i class="icon fa fa-bars fa-fw " aria-hidden="true"  ></i><span class="sr-only">Side panel</span></button>
            </div>
    
            <a href="https://moodle.lmu.de" class="navbar-brand aabtn has-logo
                    ">
                    <span class="logo d-none d-sm-inline">
                        <img src="https://moodle.lmu.de/pluginfile.php/1/core_admin/logocompact/300x300/1674616480/header-moodle-tiny.png" alt="moodle.lmu.de">
                    </span>
                <span class="site-name d-none d-md-inline">moodle.lmu.de</span>
            </a>
    
            <ul class="navbar-nav d-none d-md-flex">
                <!-- custom_menu -->
                <li class="nav-item">
    <a class="nav-item nav-link" href="https://moodle.lmu.de/my/" >Dashboard</a>
</li><li class="dropdown nav-item">
    <a class="dropdown-toggle nav-link" id="drop-down-667ad84bba1f8667ad84bb76674" data-toggle="dropdown" aria-haspopup="true" aria-expanded="false" href="#"  aria-controls="drop-down-menu-667ad84bba1f8667ad84bb76674">
        Help
    </a>
    <div class="dropdown-menu" role="menu" id="drop-down-menu-667ad84bba1f8667ad84bb76674" aria-labelledby="drop-down-667ad84bba1f8667ad84bb76674">
                <a class="dropdown-item" role="menuitem" href="https://moodle.lmu.de/mod/book/view.php?id=275193&amp;chapterid=27922"  >About Moodle</a>
                <a class="dropdown-item" role="menuitem" href="https://moodle.lmu.de/mod/book/view.php?id=275193&amp;chapterid=27915"  >Frequently Asked Question</a>
                <a class="dropdown-item" role="menuitem" href="https://moodle.lmu.de/mod/book/view.php?id=275193&amp;chapterid=28630"  >Getting started with Moodle</a>
                <a class="dropdown-item" role="menuitem" href="https://moodle.lmu.de/mod/book/view.php?id=275193&amp;chapterid=27918"  >HOWTOs</a>
                <a class="dropdown-item" role="menuitem" href="https://moodle.lmu.de/mod/book/view.php?id=275193&amp;chapterid=27919"  >New in Moodle</a>
                <a class="dropdown-item" role="menuitem" href="https://moodle.lmu.de/mod/book/view.php?id=275193&amp;chapterid=27917"  >Contact</a>
    </div>
</li><li class="dropdown nav-item">
    <a class="dropdown-toggle nav-link" id="drop-down-667ad84bba2b7667ad84bb76675" data-toggle="dropdown" aria-haspopup="true" aria-expanded="false" href="#" title="Language" aria-controls="drop-down-menu-667ad84bba2b7667ad84bb76675">
        English ‎(en)‎
    </a>
    <div class="dropdown-menu" role="menu" id="drop-down-menu-667ad84bba2b7667ad84bb76675" aria-labelledby="drop-down-667ad84bba2b7667ad84bb76675">
                <a class="dropdown-item" role="menuitem" href="https://moodle.lmu.de/user/policy.php?lang=de"  lang="de" >Deutsch ‎(de)‎</a>
                <a class="dropdown-item" role="menuitem" href="https://moodle.lmu.de/user/policy.php?lang=en"  >English ‎(en)‎</a>
                <a class="dropdown-item" role="menuitem" href="https://moodle.lmu.de/user/policy.php?lang=es"  lang="es" >Español - Internacional ‎(es)‎</a>
                <a class="dropdown-item" role="menuitem" href="https://moodle.lmu.de/user/policy.php?lang=fr"  lang="fr" >Français ‎(fr)‎</a>
                <a class="dropdown-item" role="menuitem" href="https://moodle.lmu.de/user/policy.php?lang=it"  lang="it" >Italiano ‎(it)‎</a>
                <a class="dropdown-item" role="menuitem" href="https://moodle.lmu.de/user/policy.php?lang=ru"  lang="ru" >Русский ‎(ru)‎</a>
                <a class="dropdown-item" role="menuitem" href="https://moodle.lmu.de/user/policy.php?lang=uk"  lang="uk" >Українська ‎(uk)‎</a>
                <a class="dropdown-item" role="menuitem" href="https://moodle.lmu.de/user/policy.php?lang=ar"  lang="ar" >العربية ‎(ar)‎</a>
    </div>
</li>
                <!-- page_heading_menu -->
                
            </ul>
            <div class="ml-auto">
                
            </div>
            <ul class="nav navbar-nav usernav">
                <!-- navbar_plugin_output -->
                <li class="nav-item">
                    
                </li>
                <!-- user_menu -->
                <li class="nav-item align-items-center pl-2">
                    <div class="usermenu"><span class="login">You are currently using guest access (<a href="https://moodle.lmu.de/login/index.php">Log in</a>)</span></div>
                </li>
            </ul>
            <!-- search_box -->
    </nav>
    <div id="nav-drawer" data-region="drawer" class="d-print-none moodle-has-zindex " aria-hidden="false" tabindex="-1">
        <nav class="list-group" aria-label="">
            <ul>
                    <li>
                        <a class="list-group-item list-group-item-action  " href="https://moodle.lmu.de/" data-key="home" data-isexpandable="0" data-indent="0" data-showdivider="0" data-type="1" data-nodetype="1" data-collapse="0" data-forceopen="1" data-isactive="0" data-hidden="0" data-preceedwithhr="0" >
                            <div class="ml-0">
                                <div class="media">
                                        <span class="media-left">
                                            <i class="icon fa fa-home fa-fw " aria-hidden="true"  ></i>
                                        </span>
                                    <span class="media-body ">Home</span>
                                </div>
                            </div>
                        </a>
                    </li>
                    <li>
                        <a class="list-group-item list-group-item-action  " href="https://moodle.lmu.de/calendar/view.php?view=month" data-key="calendar" data-isexpandable="0" data-indent="0" data-showdivider="0" data-type="60" data-nodetype="0" data-collapse="0" data-forceopen="0" data-isactive="0" data-hidden="0" data-preceedwithhr="0" data-parent-key="1">
                            <div class="ml-0">
                                <div class="media">
                                        <span class="media-left">
                                            <i class="icon fa fa-calendar fa-fw " aria-hidden="true"  ></i>
                                        </span>
                                    <span class="media-body ">Calendar</span>
                                </div>
                            </div>
                        </a>
                    </li>
            </ul>
        </nav>
    </div>

    <div id="page">
        <header id="page-header">
  <div class="lmu-headerbar">
    <div class="container">
      <div class="row">
        <div class="col-12 pt-3 pb-3 d-flex flex-nowrap align-items-center">
            <div class="mr-auto">
                <div class="page-context-header"><div class="page-header-headings"><h1>Zentrale Lernplattform • LMU München</h1></div></div>
            </div>

        </div>
      </div>
    </div>
  </div>
  <div class="lmu-navbar">
    <div class="container">
      <div class="row">
        <div class="col-12 d-flex flex-nowrap align-items-center">
            <div id="page-navbar" class="pt-2 pb-2">
                <nav aria-label="Navigation bar">
    <ol class="breadcrumb">
                <li class="breadcrumb-item">
                    <a href="https://moodle.lmu.de/"  >Home</a>
                </li>
        
                <li class="breadcrumb-item">Site policy agreement</li>
        </ol>
</nav>
            </div>
            <div class="ml-auto pl-3 pt-2 pb-2 d-flex">
                
            </div>
            <div id="course-header">
                
            </div>
        </div>
      </div>
    </div>
  </div>
</header>

        <div id="page-content" class="container d-print-block">
          <div class="row pb-3 d-print-block">
            <div id="region-main-box" class="col-12">
                <section id="region-main"  aria-label="Content">

                    <span class="notifications" id="user-notifications"></span>
                    <div role="main"><span id="maincontent"></span><h2>Site policy agreement</h2><div class="noticebox" style="max-width: 42em;"><p>Die folgenden Bedingungen gelten für alle Nutzer/innen der zentralen Lernplattform »Moodle« der Universität München (LMU), im Folgenden abgekürzt durch »Lernplattform«. Sie finden Anwendung auf alle registrierten Nutzer/innen der Lernplattform sowie Nutzer/innen von Besucherzugängen.
</p>
<h2>
    <a id="user-content--1-zweck-was-ist-moodle-und-für-was-kann-es-genutzt-werden" href="#-1-zweck-was-ist-moodle-und-f%C3%BCr-was-kann-es-genutzt-werden" aria-hidden="true"></a>§ 1 Zweck - Was ist »Moodle« und für was kann es genutzt werden?</h2>
<p><a href="https://moodle.org/" rel="nofollow noreferrer noopener" target="_blank">Moodle ist eine freie Lernplattform</a>, die weltweit an Schulen, Universitäten und Firmen für E-Learning- und Blended-Learning-Projekte eingesetzt wird. Moodle unterstützt
    die Kommunikation zwischen Lehrenden und Lernenden, die Distribution und das Training von Lehrinhalten sowie die kollaborative Erarbeitung von Wissen.
</p>
<p>Die Lernplattform wird an der LMU für die Durchführung von Blended-Learning- und E-Learning-Kursen in der Lehre eingesetzt. Angebote (z.B. Kurse) innerhalb der Lernplattform dürfen nur von Mitgliedern der LMU für diese Zwecke und insbesondere für Zwecke,
    die mit den <a href="https://www.lrz.de/wir/regelwerk/benutzungsrichtlinien.pdf" rel="nofollow noreferrer noopener" target="_blank">Nutzungsbedingungen des Leibniz-Rechenzentrums
(LRZ</a>) vereinbar sind, erstellt und betrieben werden. Die Lernplattform darf beispielsweise <em>nicht</em> für kommerzielle Angebote oder Angebote des Klinikums der Universität München&nbsp; (z.B. in der Weiterbildung von Medizinern) genutzt werden.</p>
<p>Die Nutzung für andere Zwecke (wie z.B. Forschungsprojekte der LMU München) ist prinzipiell möglich, solange diese <a href="https://www.lrz.de/wir/regelwerk/benutzungsrichtlinien.pdf" rel="nofollow noreferrer noopener" target="_blank">Nutzungsbedingungen
und die des
LRZ</a> eingehalten werden und der reguläre Betrieb der Lernplattform hierdurch nicht behindert wird. Wir bitten zu beachten, dass die LMU für Projekte außerhalb des Lehrbetriebs keine zentralen Ressourcen für Support und Beratung bereitstellt. Zudem
    umfasst das datenschutzrechtliche Verfahren aktuell ausschließlich die Nutzung der Lernplattform im Lehrbetrieb - für alle darüber hinaus gehenden Nutzungszwecke sind zwingend eigene datenschutzrechtliche Verfahren gemäß den gesetzlichen sowie LMU-spezifischen
    Auflagen bzw. Vorgaben erforderlich (z.B. ggf. Datenschutzfolgenabschätzung, Datenschutzinformation der Betroffenen).</p>
<p>Die Nutzung der Lernplattform für Online-Prüfungen (z.B. anstelle einer Papierklausur) wird nicht unterstützt, da Anforderungen wie z.B. Ausfallsicherheit oder Archivierung, wie sie für Online-Prüfungen notwendig sind, aktuell nicht gewährleistet werden
    können und bislang keine entsprechende prüfungsrechtliche Freigabe vorliegt.</p>
<h2>
    <a id="user-content--2-datenschutz" href="#-2-datenschutz" aria-hidden="true"></a>§ 2 Datenschutz</h2>
<p>Im Rahmen der Nutzung der Lernplattform werden personenbezogene Daten von Ihnen und über Sie erhoben und verarbeitet. Diese Daten sind mit Ihrer Person verbunden. Es ist daher unsere Pflicht, Sie darüber zu informieren, welche Daten erhoben und verarbeitet
    werden und welche Rechte Sie hinsichtlich der Datenerhebung und -verarbeitung haben. Wir stellen durch eine geeignete IT-Sicherheitsinfrastruktur sicher, dass intern nur die Personen Zugriff auf diese Informationen erhalten, die diesen Zugang für
    die Aufgabenerfüllung benötigen. Personenbezogene Daten werden von uns vertraulich behandelt und nicht Dritten, insbesondere nicht öffentlich, unbefugt zur Verfügung gestellt.</p>
<p>Rechtsgrundlage für die Erhebung und Verarbeitung personenbezogener Daten ist Ihre Einwilligung gemäß Artikel 6 Abs. 1 lit. a) DSGVO. Die Datenverarbeitung erfolgt entsprechend den maßgebenden datenschutzrechtlichen Regelungen, insbesondere auf Grundlage
    der Datenschutzgrundverordnung, sowie des bayerischen Datenschutzgesetzes.</p>
<p>Die erhobenen Daten werden zu dem unter § 1 beschriebenen Zweck von den jeweiligen Dozierenden und Mitarbeitenden der Lehre im Rahmen ihrer Dienstaufgaben innerhalb der Lehre erhoben und verarbeitet. Die Datenverarbeitung erfolgt außerdem im notwendigen
    Umfang zum Zweck der fortlaufenden Verbesserung des Systembetriebs, d.h. zur Qualitätssicherung, durch den/die Betreiber/in der Lernplattform (siehe § 5).</p>
<p>Es erfolgt keine automatische Entscheidungsfindung, insbesondere kein Profiling, im Sinne der EU-Datenschutzgrundverordnung. Im Rahmen von Kursen können aber Tests Grundlage für den Nachweis der erforderlichen Qualifikation zum Abschluss eines Kurses
    sein. Tests werden automatisch ausgewertet und anschließend von den Dozierenden überprüft. Die Testfragen sind für jeden einzelnen Kurs durch die jeweiligen Dozierenden fachlich zusammengestellt.</p>
<p>Im Folgenden beschreiben wir Ihnen welche personenbezogenen Daten verarbeitet werden. Die Verarbeitung weiterer personenbezogener Daten bedarf einer entsprechenden gesetzlichen Rechtsgrundlage oder einer zusätzlichen Einwilligung.</p>
<h3>
    <a id="user-content--21-anmeldung-an-der-lernplattform" href="#-21-anmeldung-an-der-lernplattform" aria-hidden="true"></a>§ 2.1 Anmeldung an der Lernplattform</h3>
<p>Die Nutzung dieses Systems ist nur für Nutzer/innen über 16 Jahre erlaubt. Sollten Sie unter 16 Jahre alt sein und die Nutzung der Lernplattform für Sie zwingend erforderlich sein, so kontaktieren Sie bitte den Systembetreiber wie unter § 5 beschrieben.</p>
<p>Sie können sich auf der Lernplattform mit den Daten Ihrer Heimatinstitution anmelden. D.h. mit den Zugangsdaten, die Sie von der LMU erhalten haben oder von Ihrer jeweiligen Heimatinstitution oder falls Sie über die Virtuelle Hochschule Bayern (vhb) zu
    uns kommen, mit den Zugangsdaten der vhb. Die Heimatinstitution/vhb informiert Sie darüber, welche Daten Sie an uns zum Zwecke der Nutzung von Moodle überträgt. Dies sind im Allgemeinen der Anmeldename, Vorname, Nachname, E-Mail-Adresse, eindeutiger
    Identifikator (eduPersonPrincipalName oder eduPersonTargetedID) und im Falle der vhb Ihre Teilnahme an bestimmten Kursen.
</p>
<p>Berechtigte externe Nutzer können über die jeweilige
    <a href="https://www.uni-muenchen.de/einrichtungen/it-services/rechnerbetriebsgruppen/index.html" rel="nofollow noreferrer noopener" target="_blank">Rechnerbetriebsgruppe</a> der Fakultäten oder den
    <a href="https://www.it-servicedesk.uni-muenchen.de/lmu-benutzerkennung/index.html" rel="nofollow noreferrer noopener" target="_blank">IT-Servicedesk</a> eine LMU-Kennung oder Gastkennung beantragen.&nbsp;</p>
<h3>
    <a id="user-content--22-welche-daten-werden-gespeichert" href="#-22-welche-daten-werden-gespeichert" aria-hidden="true"></a>§ 2.2 Welche Daten werden gespeichert?</h3>
<p>Die meisten Daten werden von Ihnen selber eingegeben, dies sind sogenannte <em>"Bestandsdaten"</em>, die Sie z.B. im Rahmen von Foren, Aufgaben und Wikis aktiv eingeben. Daher kennen Sie diese Daten bereits. Andere Bestandsdaten entstehen durch Bewertungen
    bei Tests und Aufgaben automatisch oder werden durch Ihre/n Kursbetreuer/in aktiv eingegeben.</p>
<p><em>Stammdaten</em> sind Angaben wie bspw. Ihr Name und Ihre E-Mail-Adresse (wie unter § 2.1 beschrieben).</p>
<p><em>Bewegungsdaten</em> umfassen, welche Kurse Sie nutzen und was Sie wann in diesen Kursen getan haben (z.B. welche Seiten Sie aufgerufen haben) oder zum Beispiel Ihre Leistungsergebnisse aus den Kursen (Testergebnisse u.ä).
</p>
<p><em>Diagnosedaten</em> (Automatische Speicherung von Stamm-, Bestands- und Bewegungsdaten in Folge eines auftretenden Fehlerzustands) werden zur Wahrung/Steigerung der Systemstabilität, -performance und -sicherheit erhoben.
</p>
<p><em>Betriebsdaten am LRZ:</em> Die meisten Daten werden in der Datenbank der Lernplattform gespeichert. Diese befindet sich auf Servern, die vom Leibniz-Rechenzentrum der Bayerischen Akademie der Wissenschaften (LRZ) betrieben werden. Das LRZ erstellt
    zusätzlich Protokolle über Ihre Nutzung. Folgende Daten werden durch das LRZ gespeichert: IP-Adresse des zugreifenden Endgeräts; Datum und Uhrzeit des Zugriffs; aufgerufene Ressource; Status-Code des antwortenden Webservers; Größe der übertragenen
    Daten; Webseite, von der aus die ausgelieferte Ressource aufgerufen wurde ("Referer"); Browsertyp-Identifikation; im Fehlerfall vom Webserver ausgegebene Fehlermeldung. Die vom LRZ gespeicherten Bewegungsdaten werden ausschließlich zu technischen
    oder statistischen Zwecken erfasst. Die hierfür nötigen Datenübertragungen erfolgen gesichert. Ein Abgleich mit anderen Datenbeständen oder eine (automatisierte) Datenübertragung an Dritte, auch in Auszügen, ist ausgeschlossen.
</p>
<h3>
    <a id="user-content--23-cookies" href="#-23-cookies" aria-hidden="true"></a>§ 2.3 Cookies</h3>
<p>Cookies (kurze Textinformationen) werden durch die Lernplattform auf mehrere Arten genutzt:</p>
<ul>
    <li>
        <p>Session-Cookie: Dieses Cookie ist notwendig, damit die Lernplattform Sie über mehrere Seitenaufrufe hinweg identifizieren kann, ohne dass Sie sich bei jedem Seitenwechsel neu authentifizieren bzw. anmelden müssen. Das Cookie wird beim ersten Aufruf
            der Lernplattform gesetzt und bleibt erhalten bis Sie sich aus der Lernplattform abmelden bzw. Ihren Browser schließen (Letzteres kann ggf. durch lokale Browser-Einstellungen unterbunden werden) bzw. die Cookies aus Ihren Browser entfernen
            oder die entsprechenden Sicherheitseinstellungen Ihres PC ändern.</p>
    </li>
    <li>
        <p>Usability-Cookies: Einzelne Komponenten der Lernplattform verwenden Cookies, um die Nutzerfreundlichkeit zu erhöhen - etwa um den Zustand ein- bzw. ausgeblendeter Webseiten-Elemente über mehrere Seitenaufrufe hinweg zu speichern.</p>
    </li>
    <li>
        <p>Die Nutzung von Cookies ist in Ihrem Interesse. Bitte beachten Sie, dass einzelne Moodle-Seiten oder Funktionen nicht mehr genutzt oder entsprechend dargestellt werden können, wenn Sie die Cookies deaktivieren.</p>
    </li>
</ul>
<h3>
    <a id="user-content--24-wer-hat-worauf-zugriff" href="#-24-wer-hat-worauf-zugriff" aria-hidden="true"></a>§ 2.4 Wer hat worauf Zugriff?</h3>
<p>Veranstaltungen werden auf der Lernplattform in sog. "Kursen" bzw. "Kursräumen" durchgeführt, die ihrerseits in sog. "Kursbereichen" (z.B. Fakultät oder Department) angeordnet sind. Über die Vergabe Kurs- und Kursbereichs-spezifischer Rollen und Rechte
    erhalten Nutzer/innen der Lernplattform die Möglichkeit, Kurse und Kursbereiche zu verwalten, inhaltlich zu gestalten sowie ggf. anderen Personen entsprechende Zugriffsrechte zu gewähren.</p>
<ul>
    <li>
        <p>Kurse sind im Allgemeinen "geschlossen" d.h. sie sind nur für einen Personenkreis zugänglich der vom Kursverantwortlichen oder Manager definiert ist, außer der/die Kursverantwortliche öffnet den Kurs für „Gäste“, so dass er diesbezüglich weltöffentlich
            ohne eine Kennung zugänglich ist.</p>
    </li>
    <li>
        <p>Kursverantwortliche sind im Allgemeinen Lehrende (z.B. die Rollen
            <em>Dozent/in mit Editierrechten</em>, <em>Trainer/in</em>, <em>Sekretariat mit
Editierrechten</em>, <em>Studen/int mit Editierrechten</em>) sie haben Zugriffsrechte für einen Kursraum, den sie betreuen. Sie haben die Möglichkeit, Inhalte und Aktivitäten einzustellen sowie den Zugriff auf den Kurs und die Rollen und Rechte innerhalb
            des Kurses zu steuern. Für die Teilnehmer/innenverwaltung können sie auf die Teilnehmer/innenliste und somit die Stammdaten aller Kursteilnehmer/innen zugreifen sowie für die Freischaltung der Teilnehmer/innen auf den Vornamen, Nachnamen und
            E-Mail Adresse aller Nutzer/innen systemweit. Außerdem auf alle Inhalte, welche die Nutzer im Kurs erstellen (z.B. Foreneinträge, Abgaben)</p>
    </li>
    <li>
        <p>Manager/innen sind Ansprechpartner/innen der einzelnen Bereiche (z.B. Fakultäten) (z.B. Rolle <em>Manager/in</em>,
            <em>Kursmanager/in</em>, <em>Kursverwalter/in</em>, <em>Kursersteller/in</em>), sie haben Rechte für Kursbereiche, legen Unterkursbereiche und Kurse an, vergeben Rechte und unterstützen Dozierende bei der Nutzung und Konfiguration der Kursräume.
            Sie haben somit in Ihrem Bereich mindestens die gleichen Zugriffsrechte wie die Kursverantwortlichen selbst.</p>
    </li>
    <li>
        <p>Kursteilnehmer/innen (z.B. Studierende) haben Zugriff auf Kurse, für die sie von Kursverantwortlichen oder Manager/innen freigeschaltet wurden und können innerhalb der Vorgaben des Kursverantwortlichen Inhalte einpflegen und an Aktivitäten teilnehmen.
            Sie können Daten wie Vorname, Nachname, E-Mail-Adresse sowie Kursinhalte, z.B. persönliche Foreneinträge, von den anderen Kursteilnehmer/innen sehen.</p>
    </li>
    <li>
        <p>Administrator/innen sind die mit der technischen Verwaltung der Lernplattform betrauten Personen und haben Zugriffsrechte für das gesamte System. Sie können auf alle Daten der Lernplattform zugreifen, auch auf die vom LRZ erhobenen Bewegungsdaten.
            Diese Rechte erhalten nur wenige Mitarbeiter/innen die mit der IT-Systembetreuung beauftragt sind.</p>
    </li>
    <li>
        <p>LRZ-Administrator/innen können (aus technischer Sicht) uneingeschränkt auf die Lernplattform zugreifen. Aufgrund der Dienstaufgaben ist der Zugriff aber auf Protokolldaten begrenzt.</p>
    </li>
</ul>
<h3>
    <a id="user-content--25-weitergabe-von-daten" href="#-25-weitergabe-von-daten" aria-hidden="true"></a>§ 2.5 Weitergabe von Daten</h3>
<p>Wir geben Ihre Daten nur in Ausnahmefällen und nur in Ihrem Interesse und zu spezifischen Zwecken an Dritte weiter, beispielsweise um Ihnen den Zugriff auf ein externes System zu ermöglichen. Genauer beschreiben wir Ihnen dies im Folgenden:</p>
<h4>
    <a id="user-content--251-support-und-anfragen" href="#-251-support-und-anfragen" aria-hidden="true"></a>§ 2.5.1 Support und Anfragen</h4>
<p>In vielen Fällen sind Ihre Dozierenden oder der
    <a href="https://moodle.lmu.de/mod/page/view.php?id=39551" rel="nofollow noreferrer noopener" target="_blank">Fakultätssupport</a> Ihre ersten Ansprechpartner/innen. Bitte nutzen Sie <a href="https://moodle.lmu.de/support" rel="nofollow noreferrer noopener" target="_blank">unsere
Supportseite</a>, um den direkten Weg zu Ihrem/r Ansprechpartner/in herauszufinden. Wenn Sie sich direkt an uns wenden, wird Ihre E-Mail-Adresse nur für die Korrespondenz mit Ihnen verwendet und an ein Ticketsystem weitergeleitet. Hierfür gilt <a href="https://www.elearning.lmu.de/policies/zammad" rel="nofollow noreferrer noopener" target="_blank">die
Datenschutzerklärung</a> des Systems Zammad, die Sie hier finden: <a href="https://www.elearning.lmu.de/policies/zammad" rel="nofollow noreferrer noopener" target="_blank">Datenschutzerklärung
Zammad.</a> Bei Erhalt einer E-Mail gehen wir davon aus, dass auch die Beantwortung mittels E-Mail gewünscht ist, es sei denn, Sie bringen den Wunsch nach einer anderen Form der Kommunikation zum Ausdruck. Ggf. wird Ihre E-Mail zur weiteren Bearbeitung
    an die zuständige Stelle (z.B. Kursverantwortliche, Rechnerbetriebsgruppe, Mitarbeiter/innen der zentralen Universitätsverwaltung, Dekanat, externe Dienstleister) weitergeleitet, je nachdem um welches Anliegen es sich handelt.</p>
<h4>
    <a id="user-content--252-fakultätsspezifische-dienste" href="#-252-fakult%C3%A4tsspezifische-dienste" aria-hidden="true"></a>§ 2.5.2 Fakultätsspezifische Dienste</h4>
<p>Wenn Sie aus der Lernplattform heraus (aktuell in einzelnen Kursen der Fakultät 07 und 18 angeboten) einen CASUS-Lernfall aufrufen, willigen Sie ein, dass Ihr Vorname, Name und E-Mail-Adresse an
    <a href="https://www.casus.eu" rel="nofollow noreferrer noopener" target="_blank">https://www.casus.eu</a> oder <a href="https://lmu.casus.net/" rel="nofollow noreferrer noopener" target="_blank">https://lmu.casus.net/</a> übertragen und dort zweckgebunden
    verarbeitet werden. Es gilt hierfür die
    <em><a href="http://lmu.casus.net/pmw2/app/privacy.html" rel="nofollow noreferrer noopener" target="_blank">Datenschutzerklärung des
Anbieters</a> CASUS</em>,</p>
<h4>
    <a id="user-content--253-weitere-dienste" href="#-253-weitere-dienste" aria-hidden="true"></a>§ 2.5.3. Weitere Dienste</h4>
<p>Wenn Sie aus der Lernplattform heraus ein Zoom Meeting (Videokonferenz) anlegen oder ein Zoom Meeting aufrufen, willigen Sie ein, dass Ihr Vorname, Name und E-Mail-Adresse an
    <a href="https://zoom.us/" rel="nofollow noreferrer noopener" target="_blank">https://zoom.us/</a> übertragen und dort zweckgebunden verarbeitet werden. Es gelten hierfür die <a href="https://www.it-servicedesk.uni-muenchen.de/it-angebote/zoom/nutzung_datenschutz/index.html" rel="nofollow noreferrer noopener" target="_blank">Nutzungsbedingungen,
Datenverwendungshinweise und Datenschutzinformationen für die Verwendung
von
Zoom</a> die Sie unter diesem Link finden und denen Sie damit zustimmen</p>
<h3>
    <a id="user-content--26-löschung" href="#-26-l%C3%B6schung" aria-hidden="true"></a>§ 2.6 Löschung</h3>
<p>Die personenbezogenen Daten werden aus dem System gelöscht, sobald sie nicht mehr für den Erhebungszweck benötigt werden oder Sie Ihren Widerruf erklärt haben, soweit und solange keine gesetzlichen Aufbewahrungspflichten bestehen. Sie haben jederzeit
    die Möglichkeit Daten, die Sie selbst verfasst haben (z.B. Foreneinträge, Ergänzungen im Nutzerprofil), selbst zu löschen.</p>
<ul>
    <li>
        <p><em>Stammdaten</em> in Ihrem Nutzerprofil werden bis zur Löschung des Nutzerprofils gespeichert. Nutzerprofile werden zwei Jahre nach dem letzten Login gelöscht.</p>
    </li>
    <li>
        <p><em>Bestandsdaten</em> die bei der Kursteilnahme entstehen, werden bis zur Löschung des Kurses gespeichert. Ergebnisse aus Tests, Lernpaketen und Aufgaben und Daten zum Abschluss des Kurses und der Gesamtbewertung werden maximal bis zum Ablauf
            gesetzlicher Aufbewahrungspflichten aufbewahrt. Es besteht kein Anspruch auf Löschung, wenn Informationen von Ihnen selber erfasst wurden und diese im Kontext mit Informationen anderer Nutzer stehen (z.B. Forenbeiträge).
        </p>
    </li>
    <li>
        <p><em>Bewegungsdaten in Moodle</em> (Systemweite Logdaten) werden nach 180 Tagen aus Moodle gelöscht.</p>
    </li>
    <li>
        <p><em>Diagnosedaten</em> werden nach 180 Tagen via Gleitlöschung gelöscht.</p>
    </li>
</ul>
<p>Eine Löschungsprüfung und Durchführung erfolgt regelmäßig und zumindest jährlich.
</p>
<p><em>Betriebsdaten am LRZ:</em> Die im Zuge des Betriebes des Webservers anfallenden Zugriffsdaten und Fehlermeldungen (Weblogs) werden nach 7 Tagen anonymisiert. Eine Gleitlöschung der anonymisierten Logs erfolgt regelmäßig im dreimonatigem Rhythmus.</p>
<h3>
    <a id="user-content--27-ihre-rechte" href="#-27-ihre-rechte" aria-hidden="true"></a>§ 2.7 Ihre Rechte</h3>
<p>Sie haben verschiedene Ansprüche gegenüber der verantwortlichen Stelle im Hinblick auf die über Sie gespeicherten Daten. Hierbei ist zu beachten, dass Stammdaten, die durch externe Institutionen (z.B. Hochschulen des DFN, vhb) bereitgestellt werden, nur
    von der jeweiligen Institution beauskunftet, berichtigt oder gelöscht werden können. Zu Ihren Rechten gehören:</p>
<ul>
    <li>
        <p>Recht auf Auskunft (Art. 15 DSGVO): Sie haben das Recht, Auskunft über die personenbezogenen Daten, die über Sie verarbeitet werden, zu erhalten, Bitte beachten Sie, dass Sie Daten auch in Ihrem Nutzungsprofil finden..</p>
    </li>
    <li>
        <p>Recht auf Berichtigung (Art. 16 DSGVO): Sofern inkorrekte personenbezogene Daten gespeichert werden, können Sie diese z.T. selber anpassen (selbst erfasste Profildaten) oder den Verantwortlichen auffordern dies zu tun. Der Verantwortliche wird
            der Aufforderung nachkommen, sofern die Berichtigung berechtigt und zulässig ist.</p>
    </li>
    <li>
        <p>Recht auf Löschung (Art. 17 DSGVO): Sie haben einen Anspruch darauf, dass personenbezogene Daten gelöscht werden, die nachweislich falsch sind oder für die der Verantwortliche keinen Verarbeitungszweck nachweisen kann. Ein Recht auf Löschung von
            personenbezogenen Daten besteht nicht, wenn der Verantwortliche verpflichtet ist, die Daten aus gesetzlichen Gründen oder aufgrund von dienstlichen Verpflichtungen noch vorzuhalten (Nachweis von Unterweisungen, Nachweis Qualitätssicherung,
            urheberrechtliche Nutzungsrechte, Prüfungsrecht). Die Pflicht zur Löschung von personenbezogenen Daten kann auch nach Beendigung des Studiums / der Teilname am Kurs / des Beschäftigungsverhältnisses oder bei Widerruf der Einwilligung bestehen.
            Es besteht ebenfalls kein Anspruch auf Löschung, wenn Informationen von Ihnen selber erfasst wurden und diese im unauflöslichen Kontext mit Informationen anderer Nutzer stehen (z.B. Forenbeiträge). Der Antrag auf Löschung kann als Widerruf
            der Einwilligung gewertet werden. Dies kann dazu führen, dass Sie danach keinen Zugang zur Lernplattform mehr erhalten und eine Teilnahme an einem Kurs nicht mehr möglich ist. Nachweise z.B. Leistungsnachweise können so möglicherweise nicht
            mehr erbracht werden.</p>
    </li>
    <li>
        <p>Recht auf Einschränkung der Verarbeitung (Art. 18 DSGVO) : Die Verantwortlichen werden sicherstellen, dass personenbezogene Daten im Falle der berechtigten Einschränkung der Verarbeitung nur solchen Personen zugänglich sind, die die Daten verarbeiten
            müssen. Dazu können sie sich der Mittel der Pseudonymisierung und der Anonymisierung bedienen. Die Einschränkung der Verarbeitung kann dazu führen, dass Sie danach keinen Zugang zur Lernplattform mehr erhalten und eine Teilnahme an einem Kurs
            nicht mehr möglich ist. Nachweise z.B. Leistungsnachweise können so möglicherweise nicht mehr erbracht werden.</p>
    </li>
    <li>
        <p>Widerspruchsrecht (Art. 21 DSGVO): Sie können unter den gesetzlichen Voraussetzungen der weiteren Nutzung der Daten widersprechen. Dies kann nur in die Zukunft hinein wirksam werden. Das Widerspruchsrecht ist keine automatische Verpflichtung zur
            Löschung der Daten für den Verantwortlichen. Sofern der Verantwortliche Speicherpflichten aus anderen gesetzlichen Gründen hat, gehen diese vor.. Der Widerspruch kann dazu führen, dass Sie danach keinen Zugang zur Lernplattform mehr erhalten
            und eine Teilnahme an einem Kurs nicht mehr möglich ist. Nachweise z.B. Leistungsnachweise können so möglicherweise nicht mehr erbracht werden.</p>
    </li>
    <li>
        <p>Recht auf Datenübertragbarkeit Art. 20 DSGVO): Sie haben unter den gesetzlichen Voraussetzungen einen Anspruch, Daten, die von Ihnen selber erfasst wurden, in einem elektronischen Format zu erhalten, das für die Nutzung an anderer Stelle eingesetzt
            werden kann. Das Recht ist beschränkt auf Daten, die nicht einem Geschäftsgeheimnis unterliegen und daher nicht an andere Stellen übertragen werden dürfen oder die die Rechte anderer ,z.B. deren Persönlichkeitsrecht oder Urheberrecht, betreffen.</p>
    </li>
    <li>
        <p>Widerrufsrecht (Art. 7 Abs. 3 DSGVO): Sie haben das Recht, die Einwilligung zur Verarbeitung Ihrer Daten für die Zukunft zu widerrufen. Der Widerruf lässt die Rechtmäßigkeit der Verarbeitung bis zum Zeitpunkt des Widerrufs unberührt. Der Widerruf
            kann dazu führen, dass Sie danach keinen Zugang zur Lernplattform mehr erhalten und eine Teilnahme an einem Kurs nicht mehr möglich ist. Nachweise z.B. Leistungsnachweise können so möglicherweise nicht mehr erbracht werden. Sofern die Bearbeitung
            im Rahmen eines Arbeitsvertrages erfolgt, kann das Recht auf Widerruf eingeschränkt sein.</p>
    </li>
    <li>
        <p>Im Falle eines Verstoßes gegen gesetzliche Bestimmungen zum Schutz der über Sie gespeicherten Daten können Sie die zuständige Aufsichtsbehörde ansprechen. Die zuständige Aufsichtsbehörde finden Sie unter § 5. Bitte sprechen Sie zuerst den Verantwortlichen
            bzw. den behördlichen Datenschutzbeauftragten an (siehe § 5), damit Ihr Anliegen schnellstmöglich geprüft und ggf. entsprochen werden kann.</p>
    </li>
</ul>
<p>Bei Löschung, Einschränkung oder Widerruf ist eine weitere Nutzung der Lernplattform sowie der Zugang zu den dort gespeicherten Lerninhalten sowie die Teilnahme an den dort vorhandenen Aktivitäten und Funktionen mit sofortiger Wirkung nicht mehr gewährleistet.
    Je nach Kursformat und Art der Kursnutzung durch die einzelnen Kursverantwortlichen kann sich das u.a. auf die Kursbeteiligung, die Zusammenarbeit mit den Lehrenden und Lernenden, die Teilnahme an (Pflicht-)Veranstaltungen und Leistungsnachweisen
    oder den Studienverlauf auswirken.</p>
<h2>
    <a id="user-content--3-nutzungspflichten" href="#-3-nutzungspflichten" aria-hidden="true"></a>§ 3 Nutzungspflichten</h2>
<ul>
    <li>
        <p>Durch die Registrierung wird dem Nutzer bzw. der Nutzerin ein nicht übertragbares, einfaches Nutzungsrecht der Lernplattform übertragen.</p>
    </li>
    <li>
        <p>Alle anderen Nutzungen der Lernplattform als die unter § 1 beschriebenen ‑ insbesondere private und/oder gewerblichen Nutzungen ‑ sowie die Nutzung für Marketingzwecke oder Profiling im Sinne der DSGVO sind ausdrücklich untersagt.</p>
    </li>
    <li>
        <p>Allen Nutzer und Nutzerinnen der Lernplattform ist es untersagt, personenbezogene Daten unbefugt zu speichern, weiterzuverarbeiten, zu verändern, zu unterdrücken oder zu löschen. Dem Nutzer bzw. der Nutzerin zur Verfügung gestellter Speicherplatz
            darf ausschließlich zur Verarbeitung der erstellten Inhalte im Sinne der zweckgemäßen Nutzung der Lernplattform benutzt werden. Ein vom Zweck abweichender Gebrauch ist untersagt.</p>
    </li>
    <li>
        <p>Die Nutzenden sind verpflichtet, alle gesetzliche Bestimmungen insbesondere des Urheberrechts und des Datenschutzrechts einzuhalten.</p>
    </li>
    <li>
        <p>Bei der Verlinkung auf externe Websites ist durch den Nutzer bzw. die Nutzerin zu prüfen, dass diese keine rechtswidrigen Inhalte aufweisen und die Linksetzung auch im Übrigen nicht gegen geltendes Recht verstößt, z.B. unter Umgehung von Schutzmaßnahmen
            erfolgt.</p>
    </li>
    <li>
        <p>Nutzende dürfen keine gegen gesetzliche Bestimmungen verstoßende, pornographische, obszöne, diffamierende, verleumderische, beleidigende, bedrohende, volksverhetzende oder rassistische Inhalte in die Lernplattform einstellen.</p>
    </li>
    <li>
        <p>Auch das Einstellen von Inhalten zum Zwecke der Werbung jeder Art, sowie die Übermittlung von Informationen, welche Schadware, z.B. einen Virus, einen Fehler, Manipulationen oder ähnliche schädigende Elemente enthalten, ist untersagt, ebenso wie
            das Einstellen von Inhalten, die das Ansehen der LMU oder des Klinikums der Universität München (KUM) schädigen.</p>
    </li>
</ul>
<h3>
    <a id="user-content--31-besondere-pflichten-im-umgang-mit-personenbezogenen-daten" href="#-31-besondere-pflichten-im-umgang-mit-personenbezogenen-daten" aria-hidden="true"></a>§ 3.1 Besondere Pflichten im Umgang mit personenbezogenen Daten</h3>
<p>Im Rahmen von Kursen haben Sie Zugriff auf personenbezogene Daten, z.B. die Namen und E-Mail-Adressen oder Foreneinträge von Kursteilnehmer/innen. Nicht ausgeschlossen ist, dass auch besonders schützenswerte Daten, u.a. von Patient/innen oder Kindern
    und Jugendlichen, in den Lerninhalten vorkommen, die für die Zwecke von Forschung und Lehre genutzt werden. Alle Nutzer/innen sind verpflichtet, die ihnen zugänglichen Daten anderer Nutzer/innen, sowie entsprechende personenbezogene Daten, zu denen
    sie Zugang erhalten, streng vertraulich zu behandeln und nicht unbefugt an Dritte weiterzugeben oder zweckwidrig zu verarbeiten. Eine Verarbeitung aufgrund Gesetzes oder einer entsprechenden schriftlichen Einwilligung der oder des jeweils Betroffenen
    bleibt hiervon unberührt..</p>
<p>Besondere Kategorien von personenbezogenen Daten (z.B. Patientendaten/Gesundheitsdaten) dürfen nur nach den Vorgaben der DSGVO und sonstiger gesetzlicher Vorgaben mit ausdrücklicher schriftlicher und wirksamer Einwilligung der oder des Betroffenen zweckgebunden
    ins System eingestellt werden. Es besteht die Pflicht, vorrangig nur anonymisierte bzw. pseudonymisierte Daten zu nutzen.</p>
<h3>
    <a id="user-content--32-urheberrecht" href="#-32-urheberrecht" aria-hidden="true"></a>§ 3.2 Urheberrecht</h3>
<p>Alle auf der Lernplattform eingestellten Materialien sind urheberrechtlich geschützt, sofern es nicht ausdrücklich anders angegeben ist. Das bedeutet, dass die Inhalte für den persönlichen Gebrauch im Rahmen der Durchführung des Kurses bestimmt sind,
    nicht an Dritte ohne schriftliche Zustimmung des Urhebers weitergegeben und weder vervielfältigt noch verändert werden dürfen. Dies gilt auch für Materialien, die während des Kurses durch Teilnehmer/innen einzeln oder gemeinsam erstellt werden. Unabhängig
    von der urheberrechtlichen Schutzfähigkeit erklären sich alle Nutzer/innen bereit, dass persönlich erstellte Materialien für Kurszwecke genutzt werden dürfen. Die LMU behält sich vor, Kurse, die gegen die rechtlichen Bestimmungen verstoßen, zu löschen
    und ggf. weitere rechtliche Maßnahmen zu einzuleiten..
</p>
<h3>
    <a id="user-content--33-pflichten-von-nutzerinnen-mit-erweiterten-rechten-zb-dozierende-managerinnen" href="#-33-pflichten-von-nutzerinnen-mit-erweiterten-rechten-zb-dozierende-managerinnen" aria-hidden="true"></a>§ 3.3 Pflichten von Nutzer/innen
    mit erweiterten Rechten (z.B. Dozierende, Manager/innen)</h3>
<p>Nutzende mit erweiterten Rechten (Kursverantwortliche und Manager/innen (siehe § 2.4) haben weitreichende Rechte, um Ihre Kurse zu gestalten und zu betreiben und müssen sich hierbei an die gesetzlichen Vorgaben halten. Dabei sind besonders folgende Punkte
    wichtig:</p>
<h4>
    <a id="user-content--331-verantwortlichkeit" href="#-331-verantwortlichkeit" aria-hidden="true"></a>§ 3.3.1 Verantwortlichkeit</h4>
<p>Kursverantwortliche sind für die gesetzeskonforme Konfiguration, den Inhalt und Betrieb ihres Kurses verantwortlich. Ist in einem Kurs kein Kursverantwortlicher eingetragen, so ist jeweils der/die Manager/in der darüber liegenden Kursbereiche für den
    Kurs verantwortlich. Manager/innen sollten daher darauf achten, dass jedem Kurs in ihrem Bereich mindestens ein(e) Kursverantwortliche(r) zugeordnet ist.</p>
<h4>
    <a id="user-content--332-zugriffssteuerung" href="#-332-zugriffssteuerung" aria-hidden="true"></a>§ 3.3.2 Zugriffssteuerung</h4>
<p>Inhalte der Lernplattform können, abhängig von der im jeweiligen Kurs verwendeten Zugriffssteuerung (z.B. Einschreibemethode, Rechte, Gruppen), entweder öffentlich zur Verfügung gestellt werden, oder je nach genutztem Verfahren einer eingeschränkten Nutzergruppe
    geschützt angeboten werden. Ein personalisierter (authentifizierter und autorisierter) Zugriff kann dabei grundsätzlich durch Angehörige der LMU und anderen Institutionen im Deutschen Forschungsnetz (DFN-AAI) sowie ausgewählter externer Kooperationspartner
    erfolgen.</p>
<p>Kursverantwortliche und Manager/innen mit dem Recht zur Zugriffssteuerung verpflichten sich dazu, die von ihnen vergebenen Rollen und Rechte (z.B. Rollen, Einschreibemethoden, Gastzugang, Einschreibeschlüssel, Freigabe für Gruppen, Rechtevergabe auf Kursebene)
    fortlaufend (mindestens einmal pro Semester) auf Aktualität zu überprüfen und ggf. anzupassen bzw. zu aktualisieren. Hierbei sind gesetzliche Vorgaben, insbesondere zur Nutzung/Bereitstellung nutzungsrechtlich geschützter Werke (UrhWissG) sowie zur
    Erhebung, Verarbeitung und Zugänglichmachung personenbezogener Daten (DSGVO) einzuhalten. Zugangsschlüssel (z.B. Kursschlüssel, Gastschlüssel, Schlüssel für Tests) sind regelmäßig zu ändern und nur der gezielten Nutzergruppe zur Verfügung zu stellen.
    Erweiterte Rechte dürfen nur an Personen vergeben werden, die dazu berechtigt sind diese Rechte zu haben (z.B. über einen entsprechenden Arbeitsvertrag, der auf die Dienstaufgaben verpflichtet).</p>
<h4>
    <a id="user-content--333-speicherung-prüfungsrechtlich-relevanter-daten" href="#-333-speicherung-pr%C3%BCfungsrechtlich-relevanter-daten" aria-hidden="true"></a>§ 3.3.3 Speicherung prüfungsrechtlich relevanter Daten</h4>
<p>Prüfungsrechtlich relevante Daten (inklusive Prüfungstermine) dürfen – da es sich um eine freiwillig genutzte Plattform handelt - nicht ausschließlich auf der Lernplattform gespeichert werden. Die Lernplattform darf nicht als Prüfungsarchiv verwendet
    werden. Teilnehmerbezogene Daten werden vom System der bzw. dem jeweiligen registrierten Teilnehmenden zugeordnet und gehen bei einer Löschung der Datenbank oder der Nutzerprofile verloren (bspw. durch Exmatrikulation). Einer für die Verwaltung von
    Prüfungsleistungen notwendigen Aufbewahrungspflicht kann daher nicht nachgekommen, eine dafür nachhaltige Speicherung über mehrere Semester nicht gewährleistet werden.
</p>
<h4>
    <a id="user-content--334-anbindung-externer-angebote" href="#-334-anbindung-externer-angebote" aria-hidden="true"></a>§ 3.3.4. Anbindung externer Angebote</h4>
<p>Personen mit erweiterten Rechten (z.B. Dozierende) haben die Möglichkeit externe Angebote, z.B. über das externe Tool, anzubinden, so dass Daten der Nutzer an das externe System übertragen werden können. Für die Umsetzung und Einhaltung der gesetzlichen
    Vorgaben ist jeweils die Person mit erweiterten Rechten verantwortlich und nicht die Systembetreuung.
</p>
<p>Das System Casus, das von der Firma Instruct AG betrieben wird, darf bislang nur von Fakultät 07 und Fakultät 18 an Moodle angebunden werden (indem z.B. „Casusfälle“ in Moodle integriert werden). Die Anbindung weiterer Fakultäten kann nach entsprechender
    datenschutzrechtlicher Prüfung und entsprechender Vereinbarung mit der Firma Instruct AG erfolgen.
</p>
<h3>
    <a id="user-content--34-pflichten-von-managern" href="#-34-pflichten-von-managern" aria-hidden="true"></a>§ 3.4 Pflichten von Managern</h3>
<p>Manager/innen sind verpflichtet, regelmäßig (mindestens jährlich) zu prüfen, ob Kurse und Kursbereiche in ihrem Zuständigkeitsbereich (z.B. Fakultätsbereich) noch benötigt und genutzt werden. Die Lernplattform bietet keine Möglichkeiten zur dauerhaften
    Archivierung von Kursen. Falls ein Kurs nicht mehr benötigt wird, kann der/die Manager/in bei Bedarf in Absprache mit den Kursverantwortlichen, eine Sicherung der Inhalte durchführen. Im Anschluss löscht der/die Manager/in den Kurs unverzüglich.
</p>
<p>Manager/innen können den Betreiber der Lernplattform bitten, die Rolle Manager/in an Kollegen/innen zu vergeben. Es ist Aufgabe der Manager/innen, sicher zu stellen, dass die Person, die die Rechte erhält, hierzu berechtigt ist (z.B. ein entsprechender
    Arbeitsvertrag vorliegt).
</p>
<h2>
    <a id="user-content--4-weitere-regelungen" href="#-4-weitere-regelungen" aria-hidden="true"></a>§ 4 Weitere Regelungen</h2>
<h3>
    <a id="user-content--41-haftung-auf-seiten-der-nutzerinnen" href="#-41-haftung-auf-seiten-der-nutzerinnen" aria-hidden="true"></a>§ 4.1 Haftung auf Seiten der Nutzer/innen</h3>
<p>Verstößt ein/e Nutzer/in schuldhaft gegen die Nutzungsbedingungen oder gegen gesetzliche Pflichten, so haftet er/sie den gesetzlichen Vorgaben entsprechend für den entstandenen Schaden. Darüber hinaus ist eine Haftung nach Arbeits- bzw. Dienstrecht, Zivil-
    und Strafrecht bzw. nach dem Recht der Ordnungswidrigkeiten möglich.</p>
<h3>
    <a id="user-content--42-nutzungsausschluss" href="#-42-nutzungsausschluss" aria-hidden="true"></a>§ 4.2 Nutzungsausschluss</h3>
<p>Besteht ein Verstoß gegen die Nutzungsbedingungen, so wird der Nutzer bzw. die Nutzerin aufgefordert, dieses Verhalten unverzüglich zu unterlassen. Kommt er bzw. sie dieser Aufforderung nicht nach, so wird er bzw. sie von den Administrator/innen der Lernplattform
    oder von der Hochschulleitung der LMU zeitweise oder auf Dauer von der Nutzung ausgeschlossen. Ein Anspruch auf eine Wiederzulassung besteht nicht. Voraussetzung für eine Wiederzulassung ist u.a. ein schriftlicher Antrag mit der Glaubhaftmachung,
    dass das missbräuchliche Verhalten in Zukunft unterlassen wird und ein etwaiger Schaden ausgeglichen wurde.</p>
<h3>
    <a id="user-content--43-haftung-der-lmu" href="#-43-haftung-der-lmu" aria-hidden="true"></a>§ 4.3 Haftung der LMU</h3>
<p>Die LMU haftet als Betreiberin der Lernplattform ausschließlich für grob fahrlässige bzw. vorsätzlich begangene Pflichtverletzungen. Das gilt insbesondere auch für solche Schäden, die durch das Herunterladen von Software oder Materialien von Nutzenden
    entstehen. Die LMU ist von Ansprüchen Dritter wegen der Nichtbeachtung von Urheberrechten durch die Nutzenden der Lernplattform von diesen auf erstens Anfordern freizustellen. Die Haftung für Personenschäden folgt aus dem Gesetz.</p>
<h3>
    <a id="user-content--44-änderung-der-nutzungsbedingungen" href="#-44-%C3%A4nderung-der-nutzungsbedingungen" aria-hidden="true"></a>§ 4.4 Änderung der Nutzungsbedingungen</h3>
<p>Die LMU behält sich vor, diese Nutzungsbedingungen zu erweitern oder zu ändern.
</p>
<p>Über Änderungen an den Nutzungsbedingungen werden Nutzer/innen der Lernplattform fortlaufend informiert. Die jeweils gültigen Nutzungsbedingungen sind auf der Lernplattform veröffentlicht.</p>
<h3>
    <a id="user-content--45-rechtswirksamkeit" href="#-45-rechtswirksamkeit" aria-hidden="true"></a>§ 4.5 Rechtswirksamkeit</h3>
<p>Diese Ausführungen sind als Teil des Internetangebotes zu betrachten, von dem aus auf diese Seite verwiesen wurde. Sofern Teile oder einzelne Formulierungen dieses Textes der geltenden Rechtslage nicht, nicht mehr oder nicht vollständig entsprechen, bleiben
    die übrigen Teile des Dokumentes in ihrem Inhalt und ihrer Gültigkeit davon unberührt.</p>
<h3>
    <a id="user-content--46-erklärung-zum-datenschutz-und-zu-nutzungsbedingungen" href="#-46-erkl%C3%A4rung-zum-datenschutz-und-zu-nutzungsbedingungen" aria-hidden="true"></a>§ 4.6 Erklärung zum Datenschutz und zu Nutzungsbedingungen</h3>
<p>Die datenschutzrechtlichen Informationen und Nutzungsbedingungen sind mir bekannt und ich stimme diesen zu.</p>
<p>Ich habe zur Kenntnis genommen, dass bei der Nutzung der Lernplattform personenbezogene Pflichtangaben verarbeitet werden und die Einwilligung freiwillig ist. Mir ist klar, dass ich keinen Zugang zur Lernplattform erhalte, wenn ich nicht einwillige.</p>
<p>Mit der Verarbeitung dieser im »persönlichen Profil« hinterlegten Daten und der von mir in meinem Namen veröffentlichten Beiträge bin ich einverstanden. Ebenso stimme ich zu, dass die Daten, die durch meine Nutzung im Rahmen eines »Kurses« oder der Plattform
    entstehen, verarbeitet werden.</p>
<p>Diese Einwilligung kann ich jederzeit auf der Startseite der Lernplattform einsehen.</p>
<p>Durch die Nutzung von Moodle bzw. der entsprechenden angeschlossenen Systeme, z.B. <a href="http://lmu.casus.net/pmw2/app/privacy.html" rel="nofollow noreferrer noopener" target="_blank">Casus</a>,
    <a href="https://www.elearning.lmu.de/policies/zammad" rel="nofollow noreferrer noopener" target="_blank">Zammad</a>,
    <a href="https://www.it-servicedesk.uni-muenchen.de/it-angebote/zoom/nutzung_datenschutz/index.html" rel="nofollow noreferrer noopener" target="_blank">Zoom</a>, stimme ich auch der Geltung der entsprechenden Datenschutzerklärungen zu.
</p>
<h2>
    <a id="user-content--5-verantwortliche-stellen" href="#-5-verantwortliche-stellen" aria-hidden="true"></a>§ 5 Verantwortliche Stellen</h2>
<p><strong>Kursverwaltung, Kursbetreuung, Inhalte der Kurse:</strong></p>
<p>Für die Inhalte und den Betrieb der jeweiligen Kurse und Kursbereiche innerhalb der Lernplattform sind die jeweiligen Dozierenden verantwortlich (siehe auch § 2.4).</p>
<p><strong>Systembetreuung:</strong></p>
<p>Ludwig-Maximilians-Universität München<br> Referat VI.6 eUniversity-Konzepte und -Dienste<br> Geschwister-Scholl-Platz 1<br> 80539 München</p>
<p><a href="mailto:moodle@lmu.de">moodle@lmu.de</a></p>
<p>Wenn Sie eine E-Mail an uns schicken wird diese an ein Ticketsystem weitergeleitet für das folgende
    <a href="https://www.elearning.lmu.de/policies/zammad" rel="nofollow noreferrer noopener" target="_blank">Datenschutzerklärung</a> gilt, der Sie hiermit zustimmen.</p>
<p><strong>Behördlicher Datenschutzbeauftragter:</strong></p>
<p>Ludwig-Maximilians-Universität München<br> - Behördlicher Datenschutzbeauftragter -<br> Geschwister-Scholl-Platz 1<br> 80539 München</p>
<p>Tel.: 089-2180-2414<br>
    <a href="https://www.uni-muenchen.de/einrichtungen/orga_lmu/beauftragte/dschutz/index.html" rel="nofollow noreferrer noopener" target="_blank">https://www.uni-muenchen.de/einrichtungen/orga_lmu/beauftragte/dschutz/index.html</a></p>
<p><strong>Datenschutz-Aufsichtsbehörde:</strong></p>
<p>Prof. Dr. Thomas Petri<br> Postfach 22 12 19, 80502 München<br> Wagmüllerstraße 18, 80538 München</p>
<p>Tel.: 089 212672-0<br> Fax: 089 212672-50<br>
    <a href="mailto:poststelle@datenschutz-bayern.de">poststelle@datenschutz-bayern.de</a></p></div><div role="alertdialog" aria-labelledby="modal-header" aria-describedby="modal-body" aria-modal="true" id="notice" class="box py-3 generalbox modal modal-dialog modal-in-page show"><div id="modal-content" class="box py-3 modal-content"><div id="modal-header" class="box py-3 modal-header px-3"><h4>Confirm</h4></div><div role="alert" data-aria-autofocus="true" id="modal-body" class="box py-3 modal-body"><p>You must agree to this policy to continue using this site.  Do you agree?</p></div><div id="modal-footer" class="box py-3 modal-footer"><div class="buttons"><div class="singlebutton">
    <form method="post" action="policy.php" >
            <input type="hidden" name="agree" value="1">
            <input type="hidden" name="sesskey" value="0jzAlub5uV">
        <button type="submit" class="btn btn-primary"
            id="single_button667ad84bb76678"
            title=""
            
            >Yes</button>
    </form>
</div><div class="singlebutton">
    <form method="post" action="https://moodle.lmu.de/login/logout.php" >
            <input type="hidden" name="agree" value="0">
            <input type="hidden" name="sesskey" value="0jzAlub5uV">
        <button type="submit" class="btn btn-secondary"
            id="single_button667ad84bb76679"
            title=""
            
            >No</button>
    </form>
</div></div></div></div></div></div>
                    
                    

                </section>
            </div>
          </div>
        </div>
    </div>
    
    <div id="goto-top-link">
        <a class="btn btn-light" role="button" href="#" aria-label="Go to top">
            <i class="icon fa fa-arrow-up fa-fw " aria-hidden="true"  ></i>
        </a>
    </div>
    <footer id="page-footer" class="py-3 bg-dark text-light">
        <div class="container">
            <div id="course-footer"></div>
    
    
            <div class="logininfo">You are currently using guest access (<a href="https://moodle.lmu.de/login/index.php">Log in</a>)</div>
            <div class="tool_usertours-resettourcontainer"></div>
            <div class="homelink"><a href="https://moodle.lmu.de/">Home</a></div>
            <nav class="nav navbar-nav d-md-none" aria-label="Custom menu">
                    <ul class="list-unstyled pt-3">
                                        <li><a href="https://moodle.lmu.de/my/" title="">Dashboard</a></li>
                                        <li>Help</li>
                                    <li>
                                        <ul class="list-unstyled ml-3">
                                                            <li><a href="https://moodle.lmu.de/mod/book/view.php?id=275193&amp;chapterid=27922" title="">About Moodle</a></li>
                                                            <li><a href="https://moodle.lmu.de/mod/book/view.php?id=275193&amp;chapterid=27915" title="">Frequently Asked Question</a></li>
                                                            <li><a href="https://moodle.lmu.de/mod/book/view.php?id=275193&amp;chapterid=28630" title="">Getting started with Moodle</a></li>
                                                            <li><a href="https://moodle.lmu.de/mod/book/view.php?id=275193&amp;chapterid=27918" title="">HOWTOs</a></li>
                                                            <li><a href="https://moodle.lmu.de/mod/book/view.php?id=275193&amp;chapterid=27919" title="">New in Moodle</a></li>
                                                            <li><a href="https://moodle.lmu.de/mod/book/view.php?id=275193&amp;chapterid=27917" title="">Contact</a></li>
                                        </ul>
                                    </li>
                                        <li><a href="#" title="Language">English ‎(en)‎</a></li>
                                    <li>
                                        <ul class="list-unstyled ml-3">
                                                            <li><a href="https://moodle.lmu.de/user/policy.php?lang=de" title="Language">Deutsch ‎(de)‎</a></li>
                                                            <li><a href="https://moodle.lmu.de/user/policy.php?lang=en" title="Language">English ‎(en)‎</a></li>
                                                            <li><a href="https://moodle.lmu.de/user/policy.php?lang=es" title="Language">Español - Internacional ‎(es)‎</a></li>
                                                            <li><a href="https://moodle.lmu.de/user/policy.php?lang=fr" title="Language">Français ‎(fr)‎</a></li>
                                                            <li><a href="https://moodle.lmu.de/user/policy.php?lang=it" title="Language">Italiano ‎(it)‎</a></li>
                                                            <li><a href="https://moodle.lmu.de/user/policy.php?lang=ru" title="Language">Русский ‎(ru)‎</a></li>
                                                            <li><a href="https://moodle.lmu.de/user/policy.php?lang=uk" title="Language">Українська ‎(uk)‎</a></li>
                                                            <li><a href="https://moodle.lmu.de/user/policy.php?lang=ar" title="Language">العربية ‎(ar)‎</a></li>
                                        </ul>
                                    </li>
                    </ul>
            </nav>
            
            
<div style="text-align: center;">
<p> <a href="https://moodle.lmu.de/policy">Datenschutzerklärung und Nutzungsbedingungen</a> | <a href="https://moodle.lmu.de/impressum">Impressum</a> | <a href="https://moodle.lmu.de/kontakt">Kontakt</a></p>
</div><script>
//<![CDATA[
var require = {
    baseUrl : 'https://moodle.lmu.de/lib/requirejs.php/1674616481/',
    // We only support AMD modules with an explicit define() statement.
    enforceDefine: true,
    skipDataMain: true,
    waitSeconds : 0,

    paths: {
        jquery: 'https://moodle.lmu.de/lib/javascript.php/1674616481/lib/jquery/jquery-3.5.1.min',
        jqueryui: 'https://moodle.lmu.de/lib/javascript.php/1674616481/lib/jquery/ui-1.12.1/jquery-ui.min',
        jqueryprivate: 'https://moodle.lmu.de/lib/javascript.php/1674616481/lib/requirejs/jquery-private'
    },

    // Custom jquery config map.
    map: {
      // '*' means all modules will get 'jqueryprivate'
      // for their 'jquery' dependency.
      '*': { jquery: 'jqueryprivate' },
      // Stub module for 'process'. This is a workaround for a bug in MathJax (see MDL-60458).
      '*': { process: 'core/first' },

      // 'jquery-private' wants the real jQuery module
      // though. If this line was not here, there would
      // be an unresolvable cyclic dependency.
      jqueryprivate: { jquery: 'jquery' }
    }
};

//]]>
</script>
<script src="https://moodle.lmu.de/lib/javascript.php/1674616481/lib/requirejs/require.min.js"></script>
<script>
//<![CDATA[
M.util.js_pending("core/first");
require(['core/first'], function() {
require(['core/prefetch'])
;
require(["media_videojs/loader"], function(loader) {
    loader.setUp('en');
});;

require(['jquery', 'core/custom_interaction_events'], function($, CustomEvents) {
    CustomEvents.define('#single_select667ad84bb76673', [CustomEvents.events.accessibleChange]);
    $('#single_select667ad84bb76673').on(CustomEvents.events.accessibleChange, function() {
        var ignore = $(this).find(':selected').attr('data-ignore');
        if (typeof ignore === typeof undefined) {
            $('#single_select_f667ad84bb76672').submit();
        }
    });
});
;

require(['jquery', 'core/custom_interaction_events'], function($, CustomEvents) {
    CustomEvents.define('#single_select667ad84bb76677', [CustomEvents.events.accessibleChange]);
    $('#single_select667ad84bb76677').on(CustomEvents.events.accessibleChange, function() {
        var ignore = $(this).find(':selected').attr('data-ignore');
        if (typeof ignore === typeof undefined) {
            $('#single_select_f667ad84bb76676').submit();
        }
    });
});
;

M.util.js_pending('theme_boost/loader');
require(['theme_boost/loader'], function() {
    M.util.js_complete('theme_boost/loader');
});

M.util.js_pending('theme_boost/drawer');
require(['theme_boost/drawer'], function(drawer) {
    drawer.init();
    M.util.js_complete('theme_boost/drawer');
});
;
M.util.js_pending('core/notification'); require(['core/notification'], function(amd) {amd.init(1, []); M.util.js_complete('core/notification');});;
M.util.js_pending('core/log'); require(['core/log'], function(amd) {amd.setConfig({"level":"warn"}); M.util.js_complete('core/log');});;
M.util.js_pending('core/page_global'); require(['core/page_global'], function(amd) {amd.init(); M.util.js_complete('core/page_global');});
    M.util.js_complete("core/first");
});
//]]>
</script>
<script>
//<![CDATA[
M.str = {"moodle":{"lastmodified":"Last modified","name":"Name","error":"Error","info":"Information","yes":"Yes","no":"No","ok":"OK","cancel":"Cancel","confirm":"Confirm","areyousure":"Are you sure?","closebuttontitle":"Close","unknownerror":"Unknown error","file":"File","url":"URL","collapseall":"Collapse all","expandall":"Expand all"},"repository":{"type":"Type","size":"Size","invalidjson":"Invalid JSON string","nofilesattached":"No files attached","filepicker":"File picker","logout":"Logout","nofilesavailable":"No files available","norepositoriesavailable":"Sorry, none of your current repositories can return files in the required format.","fileexistsdialogheader":"File exists","fileexistsdialog_editor":"A file with that name has already been attached to the text you are editing.","fileexistsdialog_filemanager":"A file with that name has already been attached","renameto":"Rename to \"{$a}\"","referencesexist":"There are {$a} links to this file","select":"Select"},"admin":{"confirmdeletecomments":"You are about to delete comments, are you sure?","confirmation":"Confirmation"},"debug":{"debuginfo":"Debug info","line":"Line","stacktrace":"Stack trace"},"langconfig":{"labelsep":": "}};
//]]>
</script>
<script>
//<![CDATA[
(function() {Y.use("moodle-filter_glossary-autolinker",function() {M.filter_glossary.init_filter_autolinking({"courseid":0});
});
Y.use("moodle-filter_mathjaxloader-loader",function() {M.filter_mathjaxloader.configure({"mathjaxconfig":"MathJax.Hub.Config({\r\n    config: [\"Accessible.js\", \"Safe.js\"],\r\n    errorSettings: { message: [\"!\"] },\r\n    skipStartupTypeset: true,\r\n    messageStyle: \"none\"\r\n});\r\n","lang":"en"});
});
M.util.help_popups.setup(Y);
 M.util.js_pending('random667ad84bb766710'); Y.on('domready', function() { M.util.js_complete("init");  M.util.js_complete('random667ad84bb766710'); });
})();
//]]>
</script>

        </div>
    </footer>
</div>

</body>
</html>